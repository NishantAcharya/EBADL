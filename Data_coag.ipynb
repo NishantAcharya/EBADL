{
 "cells": [
  {
   "cell_type": "code",
   "execution_count": 54,
   "id": "772aa8f3",
   "metadata": {},
   "outputs": [],
   "source": [
    "import pandas as pd\n",
    "import numpy as np\n",
    "import json\n",
    "import statistics"
   ]
  },
  {
   "cell_type": "code",
   "execution_count": 55,
   "id": "f74926ad",
   "metadata": {},
   "outputs": [],
   "source": [
    "import os"
   ]
  },
  {
   "cell_type": "code",
   "execution_count": 56,
   "id": "2f878097",
   "metadata": {},
   "outputs": [],
   "source": [
    "#Opening up the directory\n",
    "directory = \"/Users/nishantacharya/Downloads/BIRAFFE2/BIRAFFE2-games/BIRAFFE2-games\""
   ]
  },
  {
   "cell_type": "code",
   "execution_count": 57,
   "id": "5b7d5f85",
   "metadata": {},
   "outputs": [],
   "source": [
    "test = os.listdir(directory)"
   ]
  },
  {
   "cell_type": "code",
   "execution_count": 58,
   "id": "95d54331",
   "metadata": {},
   "outputs": [],
   "source": [
    "File = directory+test[0]"
   ]
  },
  {
   "cell_type": "code",
   "execution_count": 59,
   "id": "2444c4da",
   "metadata": {},
   "outputs": [],
   "source": [
    "gg = directory+\"/\"+test[0]"
   ]
  },
  {
   "cell_type": "code",
   "execution_count": 60,
   "id": "e35d6f44",
   "metadata": {},
   "outputs": [
    {
     "data": {
      "text/plain": [
       "['SUB200-Level03_Log.json',\n",
       " 'SUB200-Level02_Log.json',\n",
       " 'SUB200-Level01_MapLog.json',\n",
       " 'SUB200-Level02_BlockEvents.json',\n",
       " 'SUB200-Level01_Log.json']"
      ]
     },
     "execution_count": 60,
     "metadata": {},
     "output_type": "execute_result"
    }
   ],
   "source": [
    "os.listdir(gg)"
   ]
  },
  {
   "cell_type": "code",
   "execution_count": 61,
   "id": "79ff74af",
   "metadata": {},
   "outputs": [],
   "source": [
    "data = {}"
   ]
  },
  {
   "cell_type": "code",
   "execution_count": 62,
   "id": "07236e21",
   "metadata": {
    "scrolled": true
   },
   "outputs": [],
   "source": [
    "#Collecting the data\n",
    "for file in os.listdir(directory):\n",
    "    if 'SUB' in file:\n",
    "        sub_name = file[3:]\n",
    "        data[sub_name] = None\n",
    "        new_d = directory + '/' + file\n",
    "        for new_f in os.listdir(new_d):\n",
    "            if \"Level01_Log\" in new_f:\n",
    "                jsn = new_d + \"/\" + new_f\n",
    "                with open(jsn, 'r') as json_file:\n",
    "                    json_load = json.load(json_file)\n",
    "                \n",
    "                \n",
    "                # hori,vert,death,shoot,hit,collected money,collected health,sound id, sound stamp, \n",
    "                #hori min,vert min,hori maz,vert mazz\n",
    "                hori_val = []\n",
    "                vert_val = []\n",
    "                death_val = []\n",
    "                shoot_val = []\n",
    "                hit_val = []\n",
    "                mny = []\n",
    "                hlth = []\n",
    "                sndID = []\n",
    "                sndTime = []\n",
    "                hori_min = []\n",
    "                vert_min = []\n",
    "                hori_max = []\n",
    "                vert_max = []\n",
    "                timestamp = []\n",
    "                \n",
    "                \n",
    "                for i in range(len(json_load)):\n",
    "                    hori_val.append(json_load[i]['x'])\n",
    "                    vert_val.append(json_load[i]['y'])\n",
    "                    timestamp.append(json_load[i]['timestamp'])\n",
    "                    death_val.append(json_load[i]['deathCount'])\n",
    "                    shoot_val.append(json_load[i]['shootsCounter'])\n",
    "                    hit_val.append(json_load[i]['hitCounter'])\n",
    "                    mny.append(json_load[i]['collectedMoney'])\n",
    "                    hlth.append(json_load[i]['collectedHealth'])\n",
    "                    sndID.append(json_load[i]['idOfSound'])\n",
    "                    sndTime.append(json_load[i]['timestampOfSound'])\n",
    "                    hori_min.append(json_load[i]['xMin'])\n",
    "                    vert_min.append(json_load[i]['yMin'])\n",
    "                    hori_max.append(json_load[i]['xMax'])\n",
    "                    vert_max.append(json_load[i]['yMax'])\n",
    "                #Put the data in a dictionary with the SUB title \n",
    "                sub_data = {'x':hori_val,'y':vert_val,'timestamp':timestamp,'deathCount':death_val,'shootsCounter':shoot_val,'hitCounter':hit_val,'collectedMoney':mny,'collectedHealth':hlth,'idOfSound':sndID,'timestampOfSound':sndTime,'xMin':hori_min,'yMin':vert_min,'xMax':hori_max,'yMax':vert_max}\n",
    "                data[sub_name] = sub_data"
   ]
  },
  {
   "cell_type": "code",
   "execution_count": 63,
   "id": "5a10d0bc",
   "metadata": {},
   "outputs": [],
   "source": [
    "# function to check if the subject is moving,just ambulating, r is median rows before a change happens\n",
    "def check_move(smpl,r):\n",
    "    x_prev = 0\n",
    "    y_prev = 0\n",
    "    x_min_prev = 0\n",
    "    y_min_prev = 0\n",
    "    x_max_prev = 0\n",
    "    y_max_prev = 0\n",
    "    dc_prev = 0\n",
    "    mc_prev = 0\n",
    "    hc_prev = 0\n",
    "    for i in range(smpl.shape[0]):\n",
    "        #Checking for position change\n",
    "        if (smpl['x'][i] != x_prev or smpl['y'][i] != y_prev) and smpl['deathCount'][i] == dc_prev and smpl['collectedMoney'][i] == mc_prev and smpl['collectedHealth'][i] == hc_prev:\n",
    "            n = 0\n",
    "            x_prev = smpl['x'][i]\n",
    "            y_prev = smpl['y'][i]\n",
    "            while n < r:#Putting the labels for all values above and below by r rows\n",
    "                if i + n <smpl.shape[0]:\n",
    "                    smpl['activityLabel'][i+n] = 1\n",
    "                if i - n >= 0:\n",
    "                    smpl['activityLabel'][i-n] = 1\n",
    "                n+= 1\n",
    "\n",
    "        elif (smpl['xMax'][i] != x_max_prev or smpl['yMax'][i] != y_max_prev) and smpl['deathCount'][i] == dc_prev and smpl['collectedMoney'][i] == mc_prev and smpl['collectedHealth'][i] == hc_prev:\n",
    "            n = 0\n",
    "            x_max_prev = smpl['xMax'][i]\n",
    "            y_max_prev = smpl['yMax'][i]\n",
    "            while n < r:#Putting the labels for all values above and below by r rows\n",
    "                if i + n <smpl.shape[0]:\n",
    "                    smpl['activityLabel'][i+n] = 1\n",
    "                if i - n >= 0:\n",
    "                    smpl['activityLabel'][i-n] = 1\n",
    "                n+= 1\n",
    "\n",
    "        elif (smpl['xMin'][i] != x_min_prev or smpl['yMin'][i] != y_min_prev) and smpl['deathCount'][i] == dc_prev and smpl['collectedMoney'][i] == mc_prev and smpl['collectedHealth'][i] == hc_prev:\n",
    "            n = 0\n",
    "            x_min_prev = smpl['xMin'][i]\n",
    "            y_min_prev = smpl['yMin'][i]\n",
    "            while n < r:#Putting the labels for all values above and below by r rows\n",
    "                if i + n <smpl.shape[0]:\n",
    "                    smpl['activityLabel'][i+n] = 1\n",
    "                if i - n >= 0:\n",
    "                    smpl['activityLabel'][i-n] = 1\n",
    "                n+= 1\n",
    "\n",
    "        else:\n",
    "            dc_prev = smpl['deathCount'][i]\n",
    "            mc_prev = smpl['collectedMoney'][i]\n",
    "            hc_prev = smpl['collectedHealth'][i]"
   ]
  },
  {
   "cell_type": "code",
   "execution_count": 64,
   "id": "18798ae2",
   "metadata": {},
   "outputs": [],
   "source": [
    "#Function to check for moving and picking up powerups"
   ]
  },
  {
   "cell_type": "code",
   "execution_count": 67,
   "id": "1c9ff065",
   "metadata": {},
   "outputs": [],
   "source": [
    "#Function to check how quickly do the values change\n",
    "def change_val(frame):\n",
    "    median_list = []\n",
    "    for column in frame.columns:\n",
    "        if 'timestamp' in column:\n",
    "            continue\n",
    "        curr_val = float('-inf')\n",
    "        time = []\n",
    "        for i in range(frame.shape[0]):\n",
    "            if curr_val != frame[column][i]:\n",
    "                curr_val = frame[column][i]\n",
    "                time.append(frame['timestamp'][i])\n",
    "        \n",
    "        difference = np.diff(time)\n",
    "        median_list.append(statistics.median(difference))\n",
    "    \n",
    "    return median_list"
   ]
  },
  {
   "cell_type": "code",
   "execution_count": 68,
   "id": "c4f57dd5",
   "metadata": {},
   "outputs": [
    {
     "name": "stdout",
     "output_type": "stream",
     "text": [
      "115.0\n",
      "[116.0, 116, 32414.5, 217, 217, 2575.0, 9548, 17950, 116, 116.0, 116, 116.0]\n"
     ]
    }
   ],
   "source": [
    "import statistics\n",
    "#Changing the data into Dataframes and adding activities\n",
    "for key in data:\n",
    "    smpl = data[key]\n",
    "    sub_frame = pd.DataFrame(data = smpl)\n",
    "    \n",
    "    \n",
    "    #Finding the average time between the inputs and the number of rows to check before\n",
    "    md = statistics.median(sub_frame['timestamp'].diff()[1:])\n",
    "    change = change_val(sub_frame)\n",
    "    print(md)\n",
    "    print(change)\n",
    "    break\n",
    "    \n",
    "    \n",
    "    activity = [-1 for i in range(sub_frame.shape[0])]\n",
    "    sub_frame[\"activityLabel\"] = activity\n",
    "    break\n",
    "    \n",
    "    data[key] = sub_frame"
   ]
  },
  {
   "cell_type": "code",
   "execution_count": null,
   "id": "6a4d22bc",
   "metadata": {},
   "outputs": [],
   "source": [
    "#Double the limit for the item pickup"
   ]
  }
 ],
 "metadata": {
  "kernelspec": {
   "display_name": "Python 3 (ipykernel)",
   "language": "python",
   "name": "python3"
  },
  "language_info": {
   "codemirror_mode": {
    "name": "ipython",
    "version": 3
   },
   "file_extension": ".py",
   "mimetype": "text/x-python",
   "name": "python",
   "nbconvert_exporter": "python",
   "pygments_lexer": "ipython3",
   "version": "3.7.0"
  }
 },
 "nbformat": 4,
 "nbformat_minor": 5
}
