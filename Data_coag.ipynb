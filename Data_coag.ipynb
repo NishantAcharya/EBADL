{
 "cells": [
  {
   "cell_type": "code",
   "execution_count": 1,
   "id": "dc92c6ae",
   "metadata": {},
   "outputs": [],
   "source": [
    "import pandas as pd\n",
    "import numpy as np\n",
    "import json"
   ]
  },
  {
   "cell_type": "code",
   "execution_count": 2,
   "id": "b812bac6",
   "metadata": {},
   "outputs": [],
   "source": [
    "import os"
   ]
  },
  {
   "cell_type": "code",
   "execution_count": 3,
   "id": "2fa85ea7",
   "metadata": {},
   "outputs": [],
   "source": [
    "#Opening up the directory\n",
    "directory = \"/Users/nishantacharya/Downloads/BIRAFFE2/BIRAFFE2-games/BIRAFFE2-games\""
   ]
  },
  {
   "cell_type": "code",
   "execution_count": 4,
   "id": "9281cb64",
   "metadata": {},
   "outputs": [],
   "source": [
    "test = os.listdir(directory)"
   ]
  },
  {
   "cell_type": "code",
   "execution_count": 5,
   "id": "3c44ed5c",
   "metadata": {},
   "outputs": [],
   "source": [
    "File = directory+test[0]"
   ]
  },
  {
   "cell_type": "code",
   "execution_count": 6,
   "id": "f603835b",
   "metadata": {},
   "outputs": [],
   "source": [
    "gg = directory+\"/\"+test[0]"
   ]
  },
  {
   "cell_type": "code",
   "execution_count": 7,
   "id": "b5b7c5af",
   "metadata": {},
   "outputs": [
    {
     "data": {
      "text/plain": [
       "['SUB200-Level03_Log.json',\n",
       " 'SUB200-Level02_Log.json',\n",
       " 'SUB200-Level01_MapLog.json',\n",
       " 'SUB200-Level02_BlockEvents.json',\n",
       " 'SUB200-Level01_Log.json']"
      ]
     },
     "execution_count": 7,
     "metadata": {},
     "output_type": "execute_result"
    }
   ],
   "source": [
    "os.listdir(gg)"
   ]
  },
  {
   "cell_type": "code",
   "execution_count": 8,
   "id": "76c21d38",
   "metadata": {},
   "outputs": [],
   "source": [
    "data = {}"
   ]
  },
  {
   "cell_type": "code",
   "execution_count": 9,
   "id": "3c29d47a",
   "metadata": {
    "scrolled": true
   },
   "outputs": [
    {
     "name": "stdout",
     "output_type": "stream",
     "text": [
      "/Users/nishantacharya/Downloads/BIRAFFE2/BIRAFFE2-games/BIRAFFE2-games/SUB200/SUB200-Level01_Log.json\n",
      "/Users/nishantacharya/Downloads/BIRAFFE2/BIRAFFE2-games/BIRAFFE2-games/SUB456/SUB456-Level01_Log.json\n",
      "/Users/nishantacharya/Downloads/BIRAFFE2/BIRAFFE2-games/BIRAFFE2-games/SUB236/SUB236-Level01_Log.json\n",
      "/Users/nishantacharya/Downloads/BIRAFFE2/BIRAFFE2-games/BIRAFFE2-games/SUB854/SUB854-Level01_Log.json\n",
      "/Users/nishantacharya/Downloads/BIRAFFE2/BIRAFFE2-games/BIRAFFE2-games/SUB405/SUB405-Level01_Log.json\n",
      "/Users/nishantacharya/Downloads/BIRAFFE2/BIRAFFE2-games/BIRAFFE2-games/SUB608/SUB608-Level01_Log.json\n",
      "/Users/nishantacharya/Downloads/BIRAFFE2/BIRAFFE2-games/BIRAFFE2-games/SUB230/SUB230-Level01_Log.json\n",
      "/Users/nishantacharya/Downloads/BIRAFFE2/BIRAFFE2-games/BIRAFFE2-games/SUB208/SUB208-Level01_Log.json\n",
      "/Users/nishantacharya/Downloads/BIRAFFE2/BIRAFFE2-games/BIRAFFE2-games/SUB653/SUB653-Level01_Log.json\n",
      "/Users/nishantacharya/Downloads/BIRAFFE2/BIRAFFE2-games/BIRAFFE2-games/SUB457/SUB457-Level01_Log.json\n",
      "/Users/nishantacharya/Downloads/BIRAFFE2/BIRAFFE2-games/BIRAFFE2-games/SUB665/SUB665-Level01_Log.json\n",
      "/Users/nishantacharya/Downloads/BIRAFFE2/BIRAFFE2-games/BIRAFFE2-games/SUB404/SUB404-Level01_Log.json\n",
      "/Users/nishantacharya/Downloads/BIRAFFE2/BIRAFFE2-games/BIRAFFE2-games/SUB403/SUB403-Level01_Log.json\n",
      "/Users/nishantacharya/Downloads/BIRAFFE2/BIRAFFE2-games/BIRAFFE2-games/SUB920/SUB920-Level01_Log.json\n",
      "/Users/nishantacharya/Downloads/BIRAFFE2/BIRAFFE2-games/BIRAFFE2-games/SUB318/SUB318-Level01_Log.json\n",
      "/Users/nishantacharya/Downloads/BIRAFFE2/BIRAFFE2-games/BIRAFFE2-games/SUB911/SUB911-Level01_Log.json\n",
      "/Users/nishantacharya/Downloads/BIRAFFE2/BIRAFFE2-games/BIRAFFE2-games/SUB320/SUB320-Level01_Log.json\n",
      "/Users/nishantacharya/Downloads/BIRAFFE2/BIRAFFE2-games/BIRAFFE2-games/SUB576/SUB576-Level01_Log.json\n",
      "/Users/nishantacharya/Downloads/BIRAFFE2/BIRAFFE2-games/BIRAFFE2-games/SUB141/SUB141-Level01_Log.json\n",
      "/Users/nishantacharya/Downloads/BIRAFFE2/BIRAFFE2-games/BIRAFFE2-games/SUB721/SUB721-Level01_Log.json\n",
      "/Users/nishantacharya/Downloads/BIRAFFE2/BIRAFFE2-games/BIRAFFE2-games/SUB148/SUB148-Level01_Log.json\n",
      "/Users/nishantacharya/Downloads/BIRAFFE2/BIRAFFE2-games/BIRAFFE2-games/SUB170/SUB170-Level01_Log.json\n",
      "/Users/nishantacharya/Downloads/BIRAFFE2/BIRAFFE2-games/BIRAFFE2-games/SUB577/SUB577-Level01_Log.json\n",
      "/Users/nishantacharya/Downloads/BIRAFFE2/BIRAFFE2-games/BIRAFFE2-games/SUB570/SUB570-Level01_Log.json\n",
      "/Users/nishantacharya/Downloads/BIRAFFE2/BIRAFFE2-games/BIRAFFE2-games/SUB388/SUB388-Level01_Log.json\n",
      "/Users/nishantacharya/Downloads/BIRAFFE2/BIRAFFE2-games/BIRAFFE2-games/SUB375/SUB375-Level01_Log.json\n",
      "/Users/nishantacharya/Downloads/BIRAFFE2/BIRAFFE2-games/BIRAFFE2-games/SUB959/SUB959-Level01_Log.json\n",
      "/Users/nishantacharya/Downloads/BIRAFFE2/BIRAFFE2-games/BIRAFFE2-games/SUB153/SUB153-Level01_Log.json\n",
      "/Users/nishantacharya/Downloads/BIRAFFE2/BIRAFFE2-games/BIRAFFE2-games/SUB136/SUB136-Level01_Log.json\n",
      "/Users/nishantacharya/Downloads/BIRAFFE2/BIRAFFE2-games/BIRAFFE2-games/SUB555/SUB555-Level01_Log.json\n",
      "/Users/nishantacharya/Downloads/BIRAFFE2/BIRAFFE2-games/BIRAFFE2-games/SUB758/SUB758-Level01_Log.json\n",
      "/Users/nishantacharya/Downloads/BIRAFFE2/BIRAFFE2-games/BIRAFFE2-games/SUB969/SUB969-Level01_Log.json\n",
      "/Users/nishantacharya/Downloads/BIRAFFE2/BIRAFFE2-games/BIRAFFE2-games/SUB356/SUB356-Level01_Log.json\n",
      "/Users/nishantacharya/Downloads/BIRAFFE2/BIRAFFE2-games/BIRAFFE2-games/SUB553/SUB553-Level01_Log.json\n",
      "/Users/nishantacharya/Downloads/BIRAFFE2/BIRAFFE2-games/BIRAFFE2-games/SUB333/SUB333-Level01_Log.json\n",
      "/Users/nishantacharya/Downloads/BIRAFFE2/BIRAFFE2-games/BIRAFFE2-games/SUB410/SUB410-Level01_Log.json\n",
      "/Users/nishantacharya/Downloads/BIRAFFE2/BIRAFFE2-games/BIRAFFE2-games/SUB246/SUB246-Level01_Log.json\n",
      "/Users/nishantacharya/Downloads/BIRAFFE2/BIRAFFE2-games/BIRAFFE2-games/SUB614/SUB614-Level01_Log.json\n",
      "/Users/nishantacharya/Downloads/BIRAFFE2/BIRAFFE2-games/BIRAFFE2-games/SUB223/SUB223-Level01_Log.json\n",
      "/Users/nishantacharya/Downloads/BIRAFFE2/BIRAFFE2-games/BIRAFFE2-games/SUB812/SUB812-Level01_Log.json\n",
      "/Users/nishantacharya/Downloads/BIRAFFE2/BIRAFFE2-games/BIRAFFE2-games/SUB444/SUB444-Level01_Log.json\n",
      "/Users/nishantacharya/Downloads/BIRAFFE2/BIRAFFE2-games/BIRAFFE2-games/SUB676/SUB676-Level01_Log.json\n",
      "/Users/nishantacharya/Downloads/BIRAFFE2/BIRAFFE2-games/BIRAFFE2-games/SUB249/SUB249-Level01_Log.json\n",
      "/Users/nishantacharya/Downloads/BIRAFFE2/BIRAFFE2-games/BIRAFFE2-games/SUB683/SUB683-Level01_Log.json\n",
      "/Users/nishantacharya/Downloads/BIRAFFE2/BIRAFFE2-games/BIRAFFE2-games/SUB222/SUB222-Level01_Log.json\n",
      "/Users/nishantacharya/Downloads/BIRAFFE2/BIRAFFE2-games/BIRAFFE2-games/SUB667/SUB667-Level01_Log.json\n",
      "/Users/nishantacharya/Downloads/BIRAFFE2/BIRAFFE2-games/BIRAFFE2-games/SUB256/SUB256-Level01_Log.json\n",
      "/Users/nishantacharya/Downloads/BIRAFFE2/BIRAFFE2-games/BIRAFFE2-games/SUB407/SUB407-Level01_Log.json\n",
      "/Users/nishantacharya/Downloads/BIRAFFE2/BIRAFFE2-games/BIRAFFE2-games/SUB869/SUB869-Level01_Log.json\n",
      "/Users/nishantacharya/Downloads/BIRAFFE2/BIRAFFE2-games/BIRAFFE2-games/SUB267/SUB267-Level01_Log.json\n",
      "/Users/nishantacharya/Downloads/BIRAFFE2/BIRAFFE2-games/BIRAFFE2-games/SUB603/SUB603-Level01_Log.json\n",
      "/Users/nishantacharya/Downloads/BIRAFFE2/BIRAFFE2-games/BIRAFFE2-games/SUB431/SUB431-Level01_Log.json\n",
      "/Users/nishantacharya/Downloads/BIRAFFE2/BIRAFFE2-games/BIRAFFE2-games/SUB668/SUB668-Level01_Log.json\n",
      "/Users/nishantacharya/Downloads/BIRAFFE2/BIRAFFE2-games/BIRAFFE2-games/SUB465/SUB465-Level01_Log.json\n",
      "/Users/nishantacharya/Downloads/BIRAFFE2/BIRAFFE2-games/BIRAFFE2-games/SUB202/SUB202-Level01_Log.json\n",
      "/Users/nishantacharya/Downloads/BIRAFFE2/BIRAFFE2-games/BIRAFFE2-games/SUB370/SUB370-Level01_Log.json\n",
      "/Users/nishantacharya/Downloads/BIRAFFE2/BIRAFFE2-games/BIRAFFE2-games/SUB383/SUB383-Level01_Log.json\n",
      "/Users/nishantacharya/Downloads/BIRAFFE2/BIRAFFE2-games/BIRAFFE2-games/SUB348/SUB348-Level01_Log.json\n",
      "/Users/nishantacharya/Downloads/BIRAFFE2/BIRAFFE2-games/BIRAFFE2-games/SUB948/SUB948-Level01_Log.json\n",
      "/Users/nishantacharya/Downloads/BIRAFFE2/BIRAFFE2-games/BIRAFFE2-games/SUB977/SUB977-Level01_Log.json\n",
      "/Users/nishantacharya/Downloads/BIRAFFE2/BIRAFFE2-games/BIRAFFE2-games/SUB120/SUB120-Level01_Log.json\n",
      "/Users/nishantacharya/Downloads/BIRAFFE2/BIRAFFE2-games/BIRAFFE2-games/SUB778/SUB778-Level01_Log.json\n",
      "/Users/nishantacharya/Downloads/BIRAFFE2/BIRAFFE2-games/BIRAFFE2-games/SUB575/SUB575-Level01_Log.json\n",
      "/Users/nishantacharya/Downloads/BIRAFFE2/BIRAFFE2-games/BIRAFFE2-games/SUB915/SUB915-Level01_Log.json\n",
      "/Users/nishantacharya/Downloads/BIRAFFE2/BIRAFFE2-games/BIRAFFE2-games/SUB572/SUB572-Level01_Log.json\n",
      "/Users/nishantacharya/Downloads/BIRAFFE2/BIRAFFE2-games/BIRAFFE2-games/SUB181/SUB181-Level01_Log.json\n",
      "/Users/nishantacharya/Downloads/BIRAFFE2/BIRAFFE2-games/BIRAFFE2-games/SUB175/SUB175-Level01_Log.json\n",
      "/Users/nishantacharya/Downloads/BIRAFFE2/BIRAFFE2-games/BIRAFFE2-games/SUB340/SUB340-Level01_Log.json\n",
      "/Users/nishantacharya/Downloads/BIRAFFE2/BIRAFFE2-games/BIRAFFE2-games/SUB322/SUB322-Level01_Log.json\n",
      "/Users/nishantacharya/Downloads/BIRAFFE2/BIRAFFE2-games/BIRAFFE2-games/SUB119/SUB119-Level01_Log.json\n",
      "/Users/nishantacharya/Downloads/BIRAFFE2/BIRAFFE2-games/BIRAFFE2-games/SUB589/SUB589-Level01_Log.json\n",
      "/Users/nishantacharya/Downloads/BIRAFFE2/BIRAFFE2-games/BIRAFFE2-games/SUB314/SUB314-Level01_Log.json\n",
      "/Users/nishantacharya/Downloads/BIRAFFE2/BIRAFFE2-games/BIRAFFE2-games/SUB103/SUB103-Level01_Log.json\n",
      "/Users/nishantacharya/Downloads/BIRAFFE2/BIRAFFE2-games/BIRAFFE2-games/SUB900/SUB900-Level01_Log.json\n",
      "/Users/nishantacharya/Downloads/BIRAFFE2/BIRAFFE2-games/BIRAFFE2-games/SUB938/SUB938-Level01_Log.json\n",
      "/Users/nishantacharya/Downloads/BIRAFFE2/BIRAFFE2-games/BIRAFFE2-games/SUB336/SUB336-Level01_Log.json\n",
      "/Users/nishantacharya/Downloads/BIRAFFE2/BIRAFFE2-games/BIRAFFE2-games/SUB560/SUB560-Level01_Log.json\n",
      "/Users/nishantacharya/Downloads/BIRAFFE2/BIRAFFE2-games/BIRAFFE2-games/SUB556/SUB556-Level01_Log.json\n",
      "/Users/nishantacharya/Downloads/BIRAFFE2/BIRAFFE2-games/BIRAFFE2-games/SUB790/SUB790-Level01_Log.json\n",
      "/Users/nishantacharya/Downloads/BIRAFFE2/BIRAFFE2-games/BIRAFFE2-games/SUB797/SUB797-Level01_Log.json\n",
      "/Users/nishantacharya/Downloads/BIRAFFE2/BIRAFFE2-games/BIRAFFE2-games/SUB195/SUB195-Level01_Log.json\n",
      "/Users/nishantacharya/Downloads/BIRAFFE2/BIRAFFE2-games/BIRAFFE2-games/SUB161/SUB161-Level01_Log.json\n",
      "/Users/nishantacharya/Downloads/BIRAFFE2/BIRAFFE2-games/BIRAFFE2-games/SUB502/SUB502-Level01_Log.json\n",
      "/Users/nishantacharya/Downloads/BIRAFFE2/BIRAFFE2-games/BIRAFFE2-games/SUB391/SUB391-Level01_Log.json\n",
      "/Users/nishantacharya/Downloads/BIRAFFE2/BIRAFFE2-games/BIRAFFE2-games/SUB157/SUB157-Level01_Log.json\n",
      "/Users/nishantacharya/Downloads/BIRAFFE2/BIRAFFE2-games/BIRAFFE2-games/SUB568/SUB568-Level01_Log.json\n",
      "/Users/nishantacharya/Downloads/BIRAFFE2/BIRAFFE2-games/BIRAFFE2-games/SUB330/SUB330-Level01_Log.json\n",
      "/Users/nishantacharya/Downloads/BIRAFFE2/BIRAFFE2-games/BIRAFFE2-games/SUB700/SUB700-Level01_Log.json\n",
      "/Users/nishantacharya/Downloads/BIRAFFE2/BIRAFFE2-games/BIRAFFE2-games/SUB193/SUB193-Level01_Log.json\n"
     ]
    },
    {
     "name": "stdout",
     "output_type": "stream",
     "text": [
      "/Users/nishantacharya/Downloads/BIRAFFE2/BIRAFFE2-games/BIRAFFE2-games/SUB503/SUB503-Level01_Log.json\n",
      "/Users/nishantacharya/Downloads/BIRAFFE2/BIRAFFE2-games/BIRAFFE2-games/SUB997/SUB997-Level01_Log.json\n",
      "/Users/nishantacharya/Downloads/BIRAFFE2/BIRAFFE2-games/BIRAFFE2-games/SUB504/SUB504-Level01_Log.json\n",
      "/Users/nishantacharya/Downloads/BIRAFFE2/BIRAFFE2-games/BIRAFFE2-games/SUB644/SUB644-Level01_Log.json\n",
      "/Users/nishantacharya/Downloads/BIRAFFE2/BIRAFFE2-games/BIRAFFE2-games/SUB829/SUB829-Level01_Log.json\n",
      "/Users/nishantacharya/Downloads/BIRAFFE2/BIRAFFE2-games/BIRAFFE2-games/SUB688/SUB688-Level01_Log.json\n",
      "/Users/nishantacharya/Downloads/BIRAFFE2/BIRAFFE2-games/BIRAFFE2-games/SUB211/SUB211-Level01_Log.json\n",
      "/Users/nishantacharya/Downloads/BIRAFFE2/BIRAFFE2-games/BIRAFFE2-games/SUB672/SUB672-Level01_Log.json\n",
      "/Users/nishantacharya/Downloads/BIRAFFE2/BIRAFFE2-games/BIRAFFE2-games/SUB621/SUB621-Level01_Log.json\n",
      "/Users/nishantacharya/Downloads/BIRAFFE2/BIRAFFE2-games/BIRAFFE2-games/SUB228/SUB228-Level01_Log.json\n",
      "/Users/nishantacharya/Downloads/BIRAFFE2/BIRAFFE2-games/BIRAFFE2-games/SUB821/SUB821-Level01_Log.json\n",
      "/Users/nishantacharya/Downloads/BIRAFFE2/BIRAFFE2-games/BIRAFFE2-games/SUB817/SUB817-Level01_Log.json\n",
      "/Users/nishantacharya/Downloads/BIRAFFE2/BIRAFFE2-games/BIRAFFE2-games/SUB275/SUB275-Level01_Log.json\n"
     ]
    }
   ],
   "source": [
    "#Collecting the data\n",
    "for file in os.listdir(directory):\n",
    "    if 'SUB' in file:\n",
    "        sub_name = file[3:]\n",
    "        data[sub_name] = None\n",
    "        new_d = directory + '/' + file\n",
    "        for new_f in os.listdir(new_d):\n",
    "            if \"Level01_Log\" in new_f:\n",
    "                jsn = new_d + \"/\" + new_f\n",
    "                with open(jsn, 'r') as json_file:\n",
    "                    json_load = json.load(json_file)\n",
    "                \n",
    "                \n",
    "                # hori,vert,death,shoot,hit,collected money,collected health,sound id, sound stamp, \n",
    "                #hori min,vert min,hori maz,vert mazz\n",
    "                hori_val = []\n",
    "                vert_val = []\n",
    "                death_val = []\n",
    "                shoot_val = []\n",
    "                hit_val = []\n",
    "                mny = []\n",
    "                hlth = []\n",
    "                sndID = []\n",
    "                sndTime = []\n",
    "                hori_min = []\n",
    "                vert_min = []\n",
    "                hori_max = []\n",
    "                vert_max = []\n",
    "                timestamp = []\n",
    "                \n",
    "                \n",
    "                for i in range(len(json_load)):\n",
    "                    hori_val.append(json_load[i]['x'])\n",
    "                    vert_val.append(json_load[i]['y'])\n",
    "                    timestamp.append(json_load[i]['timestamp'])\n",
    "                    death_val.append(json_load[i]['deathCount'])\n",
    "                    shoot_val.append(json_load[i]['shootsCounter'])\n",
    "                    hit_val.append(json_load[i]['hitCounter'])\n",
    "                    mny.append(json_load[i]['collectedMoney'])\n",
    "                    hlth.append(json_load[i]['collectedHealth'])\n",
    "                    sndID.append(json_load[i]['idOfSound'])\n",
    "                    sndTime.append(json_load[i]['timestampOfSound'])\n",
    "                    hori_min.append(json_load[i]['xMin'])\n",
    "                    vert_min.append(json_load[i]['yMin'])\n",
    "                    hori_max.append(json_load[i]['xMax'])\n",
    "                    vert_max.append(json_load[i]['yMax'])\n",
    "                #Put the data in a dictionary with the SUB title \n",
    "                sub_data = {'x':hori_val,'y':vert_val,'timestamp':timestamp,'deathCount':death_val,'shootsCounter':shoot_val,'hitCounter':hit_val,'collectedMoney':mny,'collectedHealth':hlth,'idOfSound':sndID,'timestampOfSound':sndTime,'xMin':hori_min,'yMin':vert_min,'xMax':hori_max,'yMax':vert_max}\n",
    "                data[sub_name] = sub_data"
   ]
  },
  {
   "cell_type": "code",
   "execution_count": 25,
   "id": "09d302bd",
   "metadata": {},
   "outputs": [],
   "source": [
    "# function to check if the subject is moving,just ambulating, r is median rows before a change happens\n",
    "def check_move(smpl,r):\n",
    "    x_prev = 0\n",
    "    y_prev = 0\n",
    "    x_min_prev = 0\n",
    "    y_min_prev = 0\n",
    "    x_max_prev = 0\n",
    "    y_max_prev = 0\n",
    "    dc_prev = 0\n",
    "    mc_prev = 0\n",
    "    hc_prev = 0\n",
    "    for i in range(smpl.shape[0]):\n",
    "        #Checking for position change\n",
    "        if (smpl['x'][i] != x_prev or smpl['y'][i] != y_prev) and smpl['deathCount'][i] == dc_prev and smpl['collectedMoney'][i] == mc_prev and smpl['collectedHealth'][i] == hc_prev:\n",
    "            n = 0\n",
    "            x_prev = smpl['x'][i]\n",
    "            y_prev = smpl['y'][i]\n",
    "            while n < r:#Putting the labels for all values above and below by r rows\n",
    "                if i + n <smpl.shape[0]:\n",
    "                    smpl['activityLabel'][i+n] = 1\n",
    "                if i - n >= 0:\n",
    "                    smpl['activityLabel'][i-n] = 1\n",
    "                n+= 1\n",
    "\n",
    "        elif (smpl['xMax'][i] != x_max_prev or smpl['yMax'][i] != y_max_prev) and smpl['deathCount'][i] == dc_prev and smpl['collectedMoney'][i] == mc_prev and smpl['collectedHealth'][i] == hc_prev:\n",
    "            n = 0\n",
    "            x_max_prev = smpl['xMax'][i]\n",
    "            y_max_prev = smpl['yMax'][i]\n",
    "            while n < r:#Putting the labels for all values above and below by r rows\n",
    "                if i + n <smpl.shape[0]:\n",
    "                    smpl['activityLabel'][i+n] = 1\n",
    "                if i - n >= 0:\n",
    "                    smpl['activityLabel'][i-n] = 1\n",
    "                n+= 1\n",
    "\n",
    "        elif (smpl['xMin'][i] != x_min_prev or smpl['yMin'][i] != y_min_prev) and smpl['deathCount'][i] == dc_prev and smpl['collectedMoney'][i] == mc_prev and smpl['collectedHealth'][i] == hc_prev:\n",
    "            n = 0\n",
    "            x_min_prev = smpl['xMin'][i]\n",
    "            y_min_prev = smpl['yMin'][i]\n",
    "            while n < r:#Putting the labels for all values above and below by r rows\n",
    "                if i + n <smpl.shape[0]:\n",
    "                    smpl['activityLabel'][i+n] = 1\n",
    "                if i - n >= 0:\n",
    "                    smpl['activityLabel'][i-n] = 1\n",
    "                n+= 1\n",
    "\n",
    "        else:\n",
    "            dc_prev = smpl['deathCount'][i]\n",
    "            mc_prev = smpl['collectedMoney'][i]\n",
    "            hc_prev = smpl['collectedHealth'][i]"
   ]
  },
  {
   "cell_type": "code",
   "execution_count": null,
   "id": "2c1140d4",
   "metadata": {},
   "outputs": [],
   "source": [
    "#Function to check for moving and picking up powerups"
   ]
  },
  {
   "cell_type": "code",
   "execution_count": 24,
   "id": "7ca79c8b",
   "metadata": {},
   "outputs": [],
   "source": [
    "#Changing the data into Dataframes and adding activities\n",
    "for key in data:\n",
    "    smpl = data[key]\n",
    "    sub_frame = pd.DataFrame(data = smpl)\n",
    "    \n",
    "    x_val = sub_frame['timestamp'].to_numpy()\n",
    "    hori = sub_frame['x'].to_numpy()\n",
    "    vert = sub_frame['y'].to_numpy()\n",
    "    deathcnt = sub_frame['deathCount'].to_numpy()\n",
    "    shoots = sub_frame['hitCounter'].to_numpy()\n",
    "    mny = sub_frame['collectedMoney'].to_numpy()\n",
    "    hlth = sub_frame['collectedHealth'].to_numpy()\n",
    "    xMin = sub_frame['xMin'].to_numpy()\n",
    "    xMax = sub_frame['xMax'].to_numpy()\n",
    "    yMax = sub_frame['yMax'].to_numpy()\n",
    "    yMin = sub_frame['yMin'].to_numpy()\n",
    "    \n",
    "    \n",
    "    activity = [-1 for i in range(sub_frame.shape[0])]\n",
    "    sub_frame[\"activityLabel\"] = activity\n",
    "    \n",
    "    #Finding the average time between the inputs and the number of rows to check before\n",
    "    \n",
    "    data[key] = sub_frame"
   ]
  },
  {
   "cell_type": "code",
   "execution_count": null,
   "id": "59292739",
   "metadata": {},
   "outputs": [],
   "source": []
  }
 ],
 "metadata": {
  "kernelspec": {
   "display_name": "Python 3 (ipykernel)",
   "language": "python",
   "name": "python3"
  },
  "language_info": {
   "codemirror_mode": {
    "name": "ipython",
    "version": 3
   },
   "file_extension": ".py",
   "mimetype": "text/x-python",
   "name": "python",
   "nbconvert_exporter": "python",
   "pygments_lexer": "ipython3",
   "version": "3.7.0"
  }
 },
 "nbformat": 4,
 "nbformat_minor": 5
}
